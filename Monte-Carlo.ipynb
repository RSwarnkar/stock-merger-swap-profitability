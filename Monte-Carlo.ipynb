{
 "cells": [
  {
   "cell_type": "markdown",
   "id": "b89728b2",
   "metadata": {},
   "source": [
    "## Monte Carlo simulation: \n",
    "\n",
    "I'm gonna follow [this video](https://www.youtube.com/watch?v=_T0l015ecK4&ab_channel=codebliss) for monte carlo simulation.\n",
    "\n"
   ]
  },
  {
   "attachments": {
    "image.png": {
     "image/png": "[encoded data removed]"
    }
   },
   "cell_type": "markdown",
   "id": "23225e13",
   "metadata": {},
   "source": [
    "#### Data Stucture for result: \n",
    "\n",
    "![image.png](attachment:image.png)"
   ]
  },
  {
   "cell_type": "code",
   "execution_count": 1,
   "id": "a930435f",
   "metadata": {},
   "outputs": [],
   "source": [
    "import numpy as np \n",
    "import pandas as pd \n",
    "import datetime\n",
    "\n",
    "from matplotlib import pyplot as plt"
   ]
  },
  {
   "cell_type": "code",
   "execution_count": 2,
   "id": "ed0dbaa0",
   "metadata": {},
   "outputs": [],
   "source": [
    "# First determine the number of simulations to run which will be stored column wise:\n",
    "num_simulations = 100\n",
    "\n",
    "# Second determine the number of days "
   ]
  },
  {
   "cell_type": "code",
   "execution_count": 3,
   "id": "c19f5251",
   "metadata": {},
   "outputs": [
    {
     "name": "stdout",
     "output_type": "stream",
     "text": [
      "date_of_completion: 2023-11-15\n",
      "date_of_announcement: 2022-04-04\n",
      "today: 2022-04-05\n",
      "approx_trading_days: 422\n",
      "Absolute day difference: 590 which has about 168 as weekends.\n"
     ]
    }
   ],
   "source": [
    "# Next define result dataframes for both stocks:\n",
    "## HDFC-HDFC Bank Merger: Completion of merger process expected by 2nd or 3rd quarter of FY24\n",
    "## Fiscal Year 2024 FY24 means the 12-month period commencing on April 1, 2023, and ending on March 31, 2024.\n",
    "## Q2 FY24 => July-Aug-Sept 2023\n",
    "## Q3 FY24 => Oct-Nov-Dec 2023\n",
    "\n",
    "### announced date\n",
    "date_of_announcement = datetime.datetime.strptime(\"2022-04-04\",'%Y-%m-%d').date()\n",
    "\n",
    "### Assume the below date\n",
    "date_of_completion = datetime.datetime.strptime(\"2023-11-15\", '%Y-%m-%d').date()\n",
    "\n",
    "\n",
    "today = datetime.date.today()\n",
    "\n",
    "print(\"date_of_completion: \"+str(date_of_completion))\n",
    "print(\"date_of_announcement: \"+str(date_of_announcement))\n",
    "print(\"today: \"+str(today))\n",
    "\n",
    "# Count business days: \n",
    "approx_trading_days = np.busday_count( date_of_announcement, date_of_completion)\n",
    "abs_days            = (date_of_completion-date_of_announcement).days\n",
    "\n",
    "print(\"approx_trading_days: \"+str(approx_trading_days))\n",
    "print(\"Absolute day difference: \"+str(abs_days)+\" which has about \"+str(abs_days-approx_trading_days)+\" as weekends.\")\n",
    "\n",
    "n_days = approx_trading_days"
   ]
  },
  {
   "cell_type": "code",
   "execution_count": 4,
   "id": "070d5980",
   "metadata": {},
   "outputs": [],
   "source": [
    "# Check if it is necessary to initialize the \n",
    "result_df_stock1 = pd.DataFrame()\n"
   ]
  },
  {
   "cell_type": "markdown",
   "id": "2d0aacfe",
   "metadata": {},
   "source": [
    "### Research TO DO: \n",
    "\n",
    "TASK: Reasearch, Given a data series for a variable and its histogram distribution that suggests \n",
    "is a normal (gaussian) distribution. How can I generate list of random data which honours the distribution? \n",
    "How do I do this? \n",
    "\n",
    "Create a function for this. \n",
    "\n",
    "NOTE: Probability mass functions (pmf) are used to describe discrete probability distributions. While probability density functions (pdf) are used to describe continuous probability distributions.\n",
    "\n",
    "Note: [List](https://docs.scipy.org/doc/scipy/reference/stats.html#continuous-distributions) of Continuous distribution types "
   ]
  },
  {
   "cell_type": "code",
   "execution_count": 17,
   "id": "f43e4dc3",
   "metadata": {},
   "outputs": [],
   "source": [
    "# Yet to be done\n",
    "\n",
    "def model_fit_pmf(df, pmf_file): \n",
    "    ## given a stock price df \n",
    "    ## calculate the best fit over the gaussian and save the model into the file\n",
    "    return \n",
    "\n",
    "\n",
    "def generate_n_samples_for_given_pmf(n_days, pmf_file):\n",
    "    ## load pmf model from file and populate a list\n",
    "    pmf_list = []\n",
    "    return pmf_list"
   ]
  },
  {
   "cell_type": "code",
   "execution_count": 6,
   "id": "afeee5fc",
   "metadata": {},
   "outputs": [],
   "source": [
    "def generate_single_monte_carlo_output(df_input, n_days, pmf_list): \n",
    "    # Some operaions and generate \n",
    "    df_result = df.Dataframe()\n",
    "    \n",
    "    ## For i in range(0,n_days):\n",
    "    ## populate stock series\n",
    "\n",
    "    return df_result\n",
    "    "
   ]
  },
  {
   "cell_type": "code",
   "execution_count": 7,
   "id": "7311001a",
   "metadata": {},
   "outputs": [],
   "source": [
    "# Calculate the Probability P(b>a) for each day:\n",
    "# and store in resilt array\n"
   ]
  },
  {
   "cell_type": "code",
   "execution_count": 8,
   "id": "269af7c3",
   "metadata": {},
   "outputs": [],
   "source": [
    "# when you have finished running simulation \n",
    "# calculate the probability of FIRST AND LAST DAY profit\n",
    "# conclude and visualize the pobability "
   ]
  },
  {
   "cell_type": "code",
   "execution_count": 9,
   "id": "145ba585",
   "metadata": {},
   "outputs": [
    {
     "data": {
      "image/png": "[encoded data removed]",
      "text/plain": [
       "<Figure size 720x504 with 1 Axes>"
      ]
     },
     "metadata": {
      "needs_background": "light"
     },
     "output_type": "display_data"
    }
   ],
   "source": [
    "\n",
    "df = pd.read_csv(\"dataset/test.csv\") \n",
    "data = df[\"Ratio a\"].to_numpy()\n",
    "\n",
    "\n",
    "# Creating histogram\n",
    "fig, ax = plt.subplots(figsize =(10, 7))\n",
    "ax.hist(data)\n",
    " \n",
    "# Show plot\n",
    "plt.show()"
   ]
  },
  {
   "cell_type": "code",
   "execution_count": 10,
   "id": "80b92608",
   "metadata": {},
   "outputs": [
    {
     "name": "stdout",
     "output_type": "stream",
     "text": [
      "0.867014453 1.101881964\n"
     ]
    }
   ],
   "source": [
    "data_min = np.min(data)\n",
    "data_max = np.max(data)\n",
    "print(data_min,data_max)"
   ]
  },
  {
   "cell_type": "code",
   "execution_count": 11,
   "id": "10b107da",
   "metadata": {},
   "outputs": [],
   "source": [
    "## Copied from: https://stackoverflow.com/questions/37487830/how-to-find-probability-distribution-and-parameters-for-real-data-python-3\n",
    "\n",
    "import scipy.stats as st\n",
    "def get_best_distribution(data):\n",
    "    dist_names = [\"norm\", \"exponweib\", \"weibull_max\", \"weibull_min\", \"pareto\", \"genextreme\"]\n",
    "    dist_results = []\n",
    "    params = {}\n",
    "    for dist_name in dist_names:\n",
    "        dist = getattr(st, dist_name)\n",
    "        param = dist.fit(data)\n",
    "\n",
    "        params[dist_name] = param\n",
    "        # Applying the Kolmogorov-Smirnov test\n",
    "        D, p = st.kstest(data, dist_name, args=param)\n",
    "        print(\"p value for \"+dist_name+\" = \"+str(p))\n",
    "        dist_results.append((dist_name, p))\n",
    "\n",
    "    # select the best fitted distribution\n",
    "    best_dist, best_p = (max(dist_results, key=lambda item: item[1]))\n",
    "    # store the name of the best fit and its p value\n",
    "\n",
    "    print(\"Best fitting distribution: \"+str(best_dist))\n",
    "    print(\"Best p value: \"+ str(best_p))\n",
    "    print(\"Parameters for the best fit: \"+ str(params[best_dist]))\n",
    "\n",
    "    return best_dist, best_p, params[best_dist]"
   ]
  },
  {
   "cell_type": "code",
   "execution_count": 12,
   "id": "9c419667",
   "metadata": {},
   "outputs": [
    {
     "name": "stdout",
     "output_type": "stream",
     "text": [
      "p value for norm = 5.818000057152288e-07\n",
      "p value for exponweib = 3.4950461638208276e-07\n",
      "p value for weibull_max = 4.586249219640277e-22\n",
      "p value for weibull_min = 3.8939299179064776e-23\n"
     ]
    },
    {
     "name": "stderr",
     "output_type": "stream",
     "text": [
      "C:\\Users\\rswarnka\\AppData\\Local\\mypythonenvs\\python3-dev\\lib\\site-packages\\scipy\\stats\\_distn_infrastructure.py:2640: RuntimeWarning: invalid value encountered in double_scalars\n",
      "  Lhat = muhat - Shat*mu\n"
     ]
    },
    {
     "name": "stdout",
     "output_type": "stream",
     "text": [
      "p value for pareto = 0.0\n",
      "p value for genextreme = 0.0\n",
      "Best fitting distribution: norm\n",
      "Best p value: 5.818000057152288e-07\n",
      "Parameters for the best fit: (1.000650438096705, 0.01830774187201713)\n"
     ]
    },
    {
     "name": "stderr",
     "output_type": "stream",
     "text": [
      "C:\\Users\\rswarnka\\AppData\\Local\\mypythonenvs\\python3-dev\\lib\\site-packages\\scipy\\stats\\_continuous_distns.py:2500: RuntimeWarning: invalid value encountered in subtract\n",
      "  -pex2+logpex2-logex2)\n"
     ]
    }
   ],
   "source": [
    "p, q, r = get_best_distribution(data)"
   ]
  },
  {
   "cell_type": "code",
   "execution_count": 13,
   "id": "341a87a0",
   "metadata": {},
   "outputs": [
    {
     "name": "stdout",
     "output_type": "stream",
     "text": [
      "norm 5.818000057152288e-07\n",
      "mean is 1.000650438096705\n",
      "sigma is 0.01830774187201713\n"
     ]
    }
   ],
   "source": [
    "print(p,q)\n",
    "print(\"mean is \"+str(r[0]))\n",
    "print(\"sigma is \"+str(r[1]))"
   ]
  },
  {
   "cell_type": "code",
   "execution_count": 57,
   "id": "cd54b094",
   "metadata": {},
   "outputs": [],
   "source": [
    "# https://stackoverflow.com/questions/36256994/how-to-generate-data-from-normal-distribution\n",
    "\n",
    "mu, sigma = r[0], r[1]\n",
    "artificial_samples = np.random.normal(mu, sigma, n_days)\n"
   ]
  },
  {
   "cell_type": "code",
   "execution_count": 58,
   "id": "fd29c11b",
   "metadata": {},
   "outputs": [
    {
     "data": {
      "image/png": "[encoded data removed]",
      "text/plain": [
       "<Figure size 720x504 with 1 Axes>"
      ]
     },
     "metadata": {
      "needs_background": "light"
     },
     "output_type": "display_data"
    }
   ],
   "source": [
    "# Plot artificial samples: \n",
    "\n",
    "# Creating histogram\n",
    "fig, az = plt.subplots(figsize =(10, 7))\n",
    "az.hist(artificial_samples)\n",
    " \n",
    "# Show plot\n",
    "plt.show()"
   ]
  },
  {
   "cell_type": "code",
   "execution_count": 59,
   "id": "354649bc",
   "metadata": {},
   "outputs": [],
   "source": [
    "initial_price_a = 2676\n",
    "\n",
    "simulation_a = [0] * len(artificial_samples)\n",
    "\n",
    "for i in range(len(artificial_samples)):\n",
    "    if(i==0):\n",
    "        simulation_a[0] = artificial_samples[0] * initial_price_a\n",
    "    else:\n",
    "        simulation_a[i] = artificial_samples[i] * simulation_a[i-1]\n",
    "\n",
    " "
   ]
  },
  {
   "cell_type": "code",
   "execution_count": 60,
   "id": "b16bd965",
   "metadata": {},
   "outputs": [
    {
     "data": {
      "image/png": "[encoded data removed]",
      "text/plain": [
       "<Figure size 432x288 with 1 Axes>"
      ]
     },
     "metadata": {
      "needs_background": "light"
     },
     "output_type": "display_data"
    }
   ],
   "source": [
    "simulation_a = np.array(simulation_a)\n",
    "\n",
    "plt.plot(simulation_a)\n",
    "plt.show()\n"
   ]
  },
  {
   "cell_type": "code",
   "execution_count": null,
   "id": "4f19dae1",
   "metadata": {},
   "outputs": [],
   "source": []
  }
 ],
 "metadata": {
  "kernelspec": {
   "display_name": "python3-dev",
   "language": "python",
   "name": "python3-dev"
  },
  "language_info": {
   "codemirror_mode": {
    "name": "ipython",
    "version": 3
   },
   "file_extension": ".py",
   "mimetype": "text/x-python",
   "name": "python",
   "nbconvert_exporter": "python",
   "pygments_lexer": "ipython3",
   "version": "3.10.0"
  }
 },
 "nbformat": 4,
 "nbformat_minor": 5
}
