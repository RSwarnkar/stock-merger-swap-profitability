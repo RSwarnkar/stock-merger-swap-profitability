{
 "cells": [
  {
   "cell_type": "markdown",
   "id": "0b0307fe",
   "metadata": {},
   "source": [
    "Primary analysis \n",
    "\n",
    "Calculate factor a \n",
    "\n",
    "Calculate factor b\n",
    "\n",
    "Plot hist of a \n",
    "\n",
    "Plot hist of b \n",
    "\n",
    "Decsribe a \n",
    "\n",
    "Decsribe b \n"
   ]
  },
  {
   "cell_type": "code",
   "execution_count": 6,
   "id": "158c4de2",
   "metadata": {},
   "outputs": [],
   "source": [
    "import pandas as pd \n",
    "import numpy as np \n",
    "from matplotlib import pyplot as plt"
   ]
  },
  {
   "cell_type": "code",
   "execution_count": 8,
   "id": "a66c8989",
   "metadata": {},
   "outputs": [
    {
     "data": {
      "text/html": [
       "<div>\n",
       "<style scoped>\n",
       "    .dataframe tbody tr th:only-of-type {\n",
       "        vertical-align: middle;\n",
       "    }\n",
       "\n",
       "    .dataframe tbody tr th {\n",
       "        vertical-align: top;\n",
       "    }\n",
       "\n",
       "    .dataframe thead th {\n",
       "        text-align: right;\n",
       "    }\n",
       "</style>\n",
       "<table border=\"1\" class=\"dataframe\">\n",
       "  <thead>\n",
       "    <tr style=\"text-align: right;\">\n",
       "      <th></th>\n",
       "      <th>Symbol</th>\n",
       "      <th>Series</th>\n",
       "      <th>Date</th>\n",
       "      <th>Prev Close</th>\n",
       "      <th>Open Price</th>\n",
       "      <th>High Price</th>\n",
       "      <th>Low Price</th>\n",
       "      <th>Last Price</th>\n",
       "      <th>Close Price</th>\n",
       "      <th>Average Price</th>\n",
       "      <th>Total Traded Quantity</th>\n",
       "      <th>Turnover</th>\n",
       "      <th>No. of Trades</th>\n",
       "      <th>Deliverable Qty</th>\n",
       "      <th>% Dly Qt to Traded Qty</th>\n",
       "    </tr>\n",
       "  </thead>\n",
       "  <tbody>\n",
       "    <tr>\n",
       "      <th>0</th>\n",
       "      <td>HDFC</td>\n",
       "      <td>EQ</td>\n",
       "      <td>3-Jan-11</td>\n",
       "      <td>728.35</td>\n",
       "      <td>737.9</td>\n",
       "      <td>737.9</td>\n",
       "      <td>724.00</td>\n",
       "      <td>727.10</td>\n",
       "      <td>728.20</td>\n",
       "      <td>728.93</td>\n",
       "      <td>768310</td>\n",
       "      <td>5.600437e+08</td>\n",
       "      <td>-</td>\n",
       "      <td>413255</td>\n",
       "      <td>53.79</td>\n",
       "    </tr>\n",
       "    <tr>\n",
       "      <th>1</th>\n",
       "      <td>HDFC</td>\n",
       "      <td>EQ</td>\n",
       "      <td>4-Jan-11</td>\n",
       "      <td>728.20</td>\n",
       "      <td>731.0</td>\n",
       "      <td>738.8</td>\n",
       "      <td>725.30</td>\n",
       "      <td>729.90</td>\n",
       "      <td>731.75</td>\n",
       "      <td>732.15</td>\n",
       "      <td>2071437</td>\n",
       "      <td>1.516595e+09</td>\n",
       "      <td>-</td>\n",
       "      <td>1220345</td>\n",
       "      <td>58.91</td>\n",
       "    </tr>\n",
       "    <tr>\n",
       "      <th>2</th>\n",
       "      <td>HDFC</td>\n",
       "      <td>EQ</td>\n",
       "      <td>5-Jan-11</td>\n",
       "      <td>731.75</td>\n",
       "      <td>727.8</td>\n",
       "      <td>727.8</td>\n",
       "      <td>706.15</td>\n",
       "      <td>707.05</td>\n",
       "      <td>708.10</td>\n",
       "      <td>713.22</td>\n",
       "      <td>1346235</td>\n",
       "      <td>9.601606e+08</td>\n",
       "      <td>-</td>\n",
       "      <td>850733</td>\n",
       "      <td>63.19</td>\n",
       "    </tr>\n",
       "    <tr>\n",
       "      <th>3</th>\n",
       "      <td>HDFC</td>\n",
       "      <td>EQ</td>\n",
       "      <td>6-Jan-11</td>\n",
       "      <td>708.10</td>\n",
       "      <td>713.7</td>\n",
       "      <td>714.7</td>\n",
       "      <td>700.80</td>\n",
       "      <td>705.90</td>\n",
       "      <td>706.90</td>\n",
       "      <td>707.41</td>\n",
       "      <td>1579745</td>\n",
       "      <td>1.117522e+09</td>\n",
       "      <td>-</td>\n",
       "      <td>958078</td>\n",
       "      <td>60.65</td>\n",
       "    </tr>\n",
       "    <tr>\n",
       "      <th>4</th>\n",
       "      <td>HDFC</td>\n",
       "      <td>EQ</td>\n",
       "      <td>7-Jan-11</td>\n",
       "      <td>706.90</td>\n",
       "      <td>703.1</td>\n",
       "      <td>708.7</td>\n",
       "      <td>680.00</td>\n",
       "      <td>683.90</td>\n",
       "      <td>683.90</td>\n",
       "      <td>694.66</td>\n",
       "      <td>2377426</td>\n",
       "      <td>1.651508e+09</td>\n",
       "      <td>-</td>\n",
       "      <td>1553546</td>\n",
       "      <td>65.35</td>\n",
       "    </tr>\n",
       "  </tbody>\n",
       "</table>\n",
       "</div>"
      ],
      "text/plain": [
       "  Symbol Series      Date  Prev Close  Open Price  High Price  Low Price  \\\n",
       "0   HDFC     EQ  3-Jan-11      728.35       737.9       737.9     724.00   \n",
       "1   HDFC     EQ  4-Jan-11      728.20       731.0       738.8     725.30   \n",
       "2   HDFC     EQ  5-Jan-11      731.75       727.8       727.8     706.15   \n",
       "3   HDFC     EQ  6-Jan-11      708.10       713.7       714.7     700.80   \n",
       "4   HDFC     EQ  7-Jan-11      706.90       703.1       708.7     680.00   \n",
       "\n",
       "   Last Price  Close Price  Average Price  Total Traded Quantity  \\\n",
       "0      727.10       728.20         728.93                 768310   \n",
       "1      729.90       731.75         732.15                2071437   \n",
       "2      707.05       708.10         713.22                1346235   \n",
       "3      705.90       706.90         707.41                1579745   \n",
       "4      683.90       683.90         694.66                2377426   \n",
       "\n",
       "       Turnover No. of Trades  Deliverable Qty  % Dly Qt to Traded Qty  \n",
       "0  5.600437e+08             -           413255                   53.79  \n",
       "1  1.516595e+09             -          1220345                   58.91  \n",
       "2  9.601606e+08             -           850733                   63.19  \n",
       "3  1.117522e+09             -           958078                   60.65  \n",
       "4  1.651508e+09             -          1553546                   65.35  "
      ]
     },
     "execution_count": 8,
     "metadata": {},
     "output_type": "execute_result"
    }
   ],
   "source": [
    "df1 = pd.read_csv (\"dataset/HDFCLTD.csv\")\n",
    "df1.head()"
   ]
  },
  {
   "cell_type": "code",
   "execution_count": 9,
   "id": "9496af72",
   "metadata": {},
   "outputs": [],
   "source": [
    "hdfctltd_pc = df1[\"Close Price\"].pct_change()"
   ]
  },
  {
   "cell_type": "code",
   "execution_count": 10,
   "id": "d8c68aa4",
   "metadata": {},
   "outputs": [
    {
     "data": {
      "image/png": "[encoded data removed]",
      "text/plain": [
       "<Figure size 720x504 with 1 Axes>"
      ]
     },
     "metadata": {
      "needs_background": "light"
     },
     "output_type": "display_data"
    }
   ],
   "source": [
    "# Creating histogram\n",
    "fig, ax = plt.subplots(figsize =(10, 7))\n",
    "ax.hist(hdfctltd_pc)\n",
    "plt.show()"
   ]
  },
  {
   "cell_type": "code",
   "execution_count": 16,
   "id": "d0169d83",
   "metadata": {},
   "outputs": [
    {
     "data": {
      "text/plain": [
       "count    2792.000000\n",
       "mean     1460.334599\n",
       "std       643.876053\n",
       "min       589.150000\n",
       "25%       829.000000\n",
       "50%      1327.875000\n",
       "75%      1930.825000\n",
       "max      3000.850000\n",
       "Name: Close Price, dtype: float64"
      ]
     },
     "execution_count": 16,
     "metadata": {},
     "output_type": "execute_result"
    }
   ],
   "source": [
    "df1[\"Close Price\"].describe()"
   ]
  },
  {
   "cell_type": "code",
   "execution_count": 12,
   "id": "6d04afe6",
   "metadata": {},
   "outputs": [
    {
     "data": {
      "image/png": "[encoded data removed]",
      "text/plain": [
       "<Figure size 720x504 with 1 Axes>"
      ]
     },
     "metadata": {
      "needs_background": "light"
     },
     "output_type": "display_data"
    }
   ],
   "source": [
    "df2 = pd.read_csv (\"dataset/HDFCBANK.csv\")\n",
    "hdfcbank_pc = df2[\"Close Price\"].pct_change()\n",
    "# Creating histogram\n",
    "fig, by = plt.subplots(figsize =(10, 7))\n",
    "by.hist(hdfctltd_pc)\n",
    "plt.show()"
   ]
  },
  {
   "cell_type": "code",
   "execution_count": 15,
   "id": "d844c8f6",
   "metadata": {},
   "outputs": [
    {
     "data": {
      "text/plain": [
       "count    2792.000000\n",
       "mean     1267.188754\n",
       "std       562.855336\n",
       "min       406.000000\n",
       "25%       745.775000\n",
       "50%      1182.100000\n",
       "75%      1658.262500\n",
       "max      2565.800000\n",
       "Name: Close Price, dtype: float64"
      ]
     },
     "execution_count": 15,
     "metadata": {},
     "output_type": "execute_result"
    }
   ],
   "source": [
    "df2[\"Close Price\"].describe()"
   ]
  },
  {
   "cell_type": "code",
   "execution_count": null,
   "id": "d3b30beb",
   "metadata": {},
   "outputs": [],
   "source": []
  }
 ],
 "metadata": {
  "kernelspec": {
   "display_name": "python3-dev",
   "language": "python",
   "name": "python3-dev"
  },
  "language_info": {
   "codemirror_mode": {
    "name": "ipython",
    "version": 3
   },
   "file_extension": ".py",
   "mimetype": "text/x-python",
   "name": "python",
   "nbconvert_exporter": "python",
   "pygments_lexer": "ipython3",
   "version": "3.10.0"
  }
 },
 "nbformat": 4,
 "nbformat_minor": 5
}
